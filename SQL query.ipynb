{
 "cells": [
  {
   "cell_type": "markdown",
   "id": "3004e53e",
   "metadata": {},
   "source": [
    "# SQL QUERY"
   ]
  },
  {
   "cell_type": "code",
   "execution_count": null,
   "id": "ab4abe40",
   "metadata": {},
   "outputs": [],
   "source": [
    "SELECT *\n",
    "FROM world.port_index\n",
    "WHERE LAT_DEG > 15;\n"
   ]
  },
  {
   "cell_type": "code",
   "execution_count": null,
   "id": "88ddb098",
   "metadata": {},
   "outputs": [],
   "source": [
    "SELECT *\n",
    "FROM world.port_index\n",
    "WHERE LONG_HEMI = 'E';\n"
   ]
  },
  {
   "cell_type": "code",
   "execution_count": null,
   "id": "037878b7",
   "metadata": {},
   "outputs": [],
   "source": [
    "SELECT *\n",
    "FROM world.port_index\n",
    "WHERE COUNTRY = 'VN' AND LAT_DEG > 15;\n"
   ]
  },
  {
   "cell_type": "code",
   "execution_count": null,
   "id": "2966e3b3",
   "metadata": {},
   "outputs": [],
   "source": [
    "SELECT *\n",
    "FROM world.port_index\n",
    "WHERE COUNTRY IN ('TR', 'VN');\n"
   ]
  },
  {
   "cell_type": "code",
   "execution_count": null,
   "id": "1e1722ce",
   "metadata": {},
   "outputs": [],
   "source": [
    "SELECT *\n",
    "FROM world.port_index\n",
    "WHERE COUNTRY = 'VN'\n",
    "ORDER BY LONGITUDE DESC;\n"
   ]
  },
  {
   "cell_type": "code",
   "execution_count": null,
   "id": "5cc18560",
   "metadata": {},
   "outputs": [],
   "source": [
    "SELECT *\n",
    "FROM world.port_index\n",
    "ORDER BY LATITUDE DESC\n",
    "LIMIT 1;\n"
   ]
  },
  {
   "cell_type": "code",
   "execution_count": null,
   "id": "4cf72e22",
   "metadata": {},
   "outputs": [],
   "source": [
    "SELECT *\n",
    "FROM world.port_index\n",
    "WHERE COUNTRY IN ('TR', 'VN') AND LAT_DEG BETWEEN 10 AND 20;\n"
   ]
  },
  {
   "cell_type": "code",
   "execution_count": null,
   "id": "f662e41b",
   "metadata": {},
   "outputs": [],
   "source": [
    "SELECT *\n",
    "FROM world.port_index\n",
    "WHERE COUNTRY = 'TR'\n",
    "ORDER BY LONGITUDE ASC\n",
    "LIMIT 1;\n"
   ]
  },
  {
   "cell_type": "code",
   "execution_count": null,
   "id": "44026649",
   "metadata": {},
   "outputs": [],
   "source": [
    "SELECT COUNTRY, COUNT(*) AS PORT_COUNT\n",
    "FROM world.port_index\n",
    "GROUP BY COUNTRY\n",
    "ORDER BY PORT_COUNT DESC;\n"
   ]
  },
  {
   "cell_type": "code",
   "execution_count": null,
   "id": "3ff51426",
   "metadata": {},
   "outputs": [],
   "source": [
    "SELECT *\n",
    "FROM world.port_index\n",
    "WHERE PORT_NAME = 'TERN ISLAND' AND LONGITUDE < 0;\n"
   ]
  },
  {
   "cell_type": "code",
   "execution_count": null,
   "id": "bdcd78ac",
   "metadata": {},
   "outputs": [],
   "source": [
    "SELECT AVG(LATITUDE) AS AVG_LATITUDE, AVG(LONGITUDE) AS AVG_LONGITUDE\n",
    "FROM world.port_index\n",
    "WHERE COUNTRY = 'TR';\n"
   ]
  },
  {
   "cell_type": "code",
   "execution_count": null,
   "id": "c021f7bd",
   "metadata": {},
   "outputs": [],
   "source": [
    "SELECT *\n",
    "FROM world.port_index\n",
    "ORDER BY CHART DESC\n",
    "LIMIT 1;\n"
   ]
  },
  {
   "cell_type": "code",
   "execution_count": null,
   "id": "3f274b11",
   "metadata": {},
   "outputs": [],
   "source": [
    "SELECT COUNTRY, SUM(CHART) AS TOTAL_CHARTS\n",
    "FROM world.port_index\n",
    "GROUP BY COUNTRY\n",
    "ORDER BY TOTAL_CHARTS DESC;\n"
   ]
  },
  {
   "cell_type": "code",
   "execution_count": null,
   "id": "0073f1c1",
   "metadata": {},
   "outputs": [],
   "source": [
    "SELECT *\n",
    "FROM world.port_index\n",
    "WHERE COUNTRY = 'VN' AND LAT_DEG > 15 AND LONG_DEG > 109;\n"
   ]
  },
  {
   "cell_type": "code",
   "execution_count": null,
   "id": "a1650b24",
   "metadata": {},
   "outputs": [],
   "source": [
    "SELECT AVG(LATITUDE) AS AVG_LATITUDE, AVG(LONGITUDE) AS AVG_LONGITUDE\n",
    "FROM world.port_index\n",
    "WHERE COUNTRY = 'TR';\n"
   ]
  },
  {
   "cell_type": "code",
   "execution_count": null,
   "id": "2a20a5ca",
   "metadata": {},
   "outputs": [],
   "source": [
    "SELECT COUNTRY, COUNT(*) AS PORT_COUNT\n",
    "FROM world.port_index\n",
    "GROUP BY COUNTRY\n",
    "HAVING COUNT(*) > 10;\n"
   ]
  },
  {
   "cell_type": "code",
   "execution_count": null,
   "id": "56bd5353",
   "metadata": {},
   "outputs": [],
   "source": [
    "SELECT *\n",
    "FROM world.port_index\n",
    "ORDER BY ABS(LATITUDE - (SELECT AVG(LATITUDE) FROM world.port_index))\n",
    "LIMIT 5;\n"
   ]
  },
  {
   "cell_type": "code",
   "execution_count": null,
   "id": "b03b107d",
   "metadata": {},
   "outputs": [],
   "source": [
    "SELECT *\n",
    "FROM world.port_index\n",
    "ORDER BY ABS(LATITUDE - (SELECT AVG(LATITUDE) FROM world.port_index))\n",
    "LIMIT 5;\n"
   ]
  },
  {
   "cell_type": "code",
   "execution_count": null,
   "id": "2892dcad",
   "metadata": {},
   "outputs": [],
   "source": [
    "SELECT *\n",
    "FROM world.port_index\n",
    "WHERE REGION_NO = (SELECT REGION_NO FROM world.port_index WHERE PORT_NAME = 'AYVALIK' AND COUNTRY = 'TR');\n"
   ]
  },
  {
   "cell_type": "code",
   "execution_count": null,
   "id": "14736229",
   "metadata": {},
   "outputs": [],
   "source": [
    "SELECT *\n",
    "FROM world.port_index\n",
    "WHERE REGION_NO = (SELECT REGION_NO FROM world.port_index WHERE PORT_NAME = 'AYVALIK' AND COUNTRY = 'TR');\n"
   ]
  },
  {
   "cell_type": "code",
   "execution_count": null,
   "id": "9f6b1d53",
   "metadata": {},
   "outputs": [],
   "source": [
    "SELECT COUNTRY, SUM(CHART) AS TOTAL_CHARTS\n",
    "FROM world.port_index\n",
    "GROUP BY COUNTRY\n",
    "ORDER BY TOTAL_CHARTS DESC\n",
    "LIMIT 5;\n"
   ]
  },
  {
   "cell_type": "code",
   "execution_count": null,
   "id": "59e47b68",
   "metadata": {},
   "outputs": [],
   "source": [
    "SELECT COUNTRY\n",
    "FROM world.port_index\n",
    "GROUP BY COUNTRY\n",
    "HAVING COUNT(*) = SUM(CASE WHEN LAT_HEMI = 'N' THEN 1 ELSE 0 END);\n"
   ]
  },
  {
   "cell_type": "code",
   "execution_count": null,
   "id": "e15e3578",
   "metadata": {},
   "outputs": [],
   "source": [
    "SELECT *\n",
    "FROM world.port_index\n",
    "WHERE COUNTRY = 'VN' AND CHART > (SELECT AVG(CHART) FROM world.port_index WHERE COUNTRY = 'VN');\n"
   ]
  },
  {
   "cell_type": "code",
   "execution_count": null,
   "id": "01570d4c",
   "metadata": {},
   "outputs": [],
   "source": [
    "SELECT REGION_NO, AVG(LATITUDE) AS AVG_LATITUDE\n",
    "FROM world.port_index\n",
    "GROUP BY REGION_NO\n",
    "ORDER BY AVG_LATITUDE DESC\n",
    "LIMIT 1;\n"
   ]
  },
  {
   "cell_type": "code",
   "execution_count": null,
   "id": "8b1eae4d",
   "metadata": {},
   "outputs": [],
   "source": [
    "SELECT *\n",
    "FROM world.port_index\n",
    "WHERE COUNTRY = 'VN' AND REGION_NO != (SELECT REGION_NO FROM world.port_index WHERE PORT_NAME = 'HAI PHONG' AND COUNTRY = 'VN');\n"
   ]
  },
  {
   "cell_type": "code",
   "execution_count": null,
   "id": "1402ce4c",
   "metadata": {},
   "outputs": [],
   "source": [
    "SELECT p1.*\n",
    "FROM world.port_index p1\n",
    "WHERE (p1.LATITUDE, p1.COUNTRY) IN (\n",
    "    SELECT MAX(LATITUDE), COUNTRY\n",
    "    FROM world.port_index\n",
    "    GROUP BY COUNTRY\n",
    ");\n"
   ]
  },
  {
   "cell_type": "code",
   "execution_count": null,
   "id": "d0ce7a81",
   "metadata": {},
   "outputs": [],
   "source": [
    "SELECT COUNTRY\n",
    "FROM world.port_index\n",
    "GROUP BY COUNTRY\n",
    "HAVING MIN(LAT_DEG * 60 + LAT_MIN) > 10 * 60;\n"
   ]
  },
  {
   "cell_type": "code",
   "execution_count": null,
   "id": "70ae157f",
   "metadata": {},
   "outputs": [],
   "source": [
    "SELECT p1.*\n",
    "FROM world.port_index p1\n",
    "WHERE (p1.CHART, p1.REGION_NO) IN (\n",
    "    SELECT MAX(CHART), REGION_NO\n",
    "    FROM world.port_index\n",
    "    GROUP BY REGION_NO\n",
    "    HAVING AVG(CHART) > 150\n",
    ");\n"
   ]
  },
  {
   "cell_type": "code",
   "execution_count": null,
   "id": "0c41daa8",
   "metadata": {},
   "outputs": [],
   "source": [
    "SELECT *\n",
    "FROM world.port_index\n",
    "WHERE COUNTRY = 'VN'\n",
    "ORDER BY SQRT(POWER(LATITUDE - (SELECT LATITUDE FROM world.port_index WHERE PORT_NAME = 'DA NANG' AND COUNTRY = 'VN'), 2) + POWER(LONGITUDE - (SELECT LONGITUDE FROM world.port_index WHERE PORT_NAME = 'DA NANG' AND COUNTRY = 'VN'), 2))\n",
    "LIMIT 5;\n"
   ]
  },
  {
   "cell_type": "code",
   "execution_count": null,
   "id": "27c10b54",
   "metadata": {},
   "outputs": [],
   "source": [
    "SELECT p1.*\n",
    "FROM world.port_index p1\n",
    "WHERE (p1.CHART, p1.REGION_NO) IN (\n",
    "    SELECT TOP 5 AVG(CHART), REGION_NO\n",
    "    FROM world.port_index\n",
    "    GROUP BY REGION_NO\n",
    "    HAVING COUNT(*) > 2\n",
    "    ORDER BY AVG(CHART) DESC\n",
    ");\n"
   ]
  },
  {
   "cell_type": "code",
   "execution_count": null,
   "id": "5e0f151e",
   "metadata": {},
   "outputs": [],
   "source": [
    "SELECT *\n",
    "FROM world.port_index\n",
    "WHERE LATITUDE > (SELECT AVG(LATITUDE) FROM world.port_index) AND LATITUDE < (SELECT AVG(LATITUDE) FROM world.port_index WHERE COUNTRY = 'VN');\n"
   ]
  },
  {
   "cell_type": "code",
   "execution_count": null,
   "id": "e94b2a3c",
   "metadata": {},
   "outputs": [],
   "source": [
    "SELECT p1.COUNTRY, p1.PORT_NAME, p2.PORT_NAME AS CLOSEST_PORT, \n",
    "       SQRT(POWER(p1.LATITUDE - p2.LATITUDE, 2) + POWER(p1.LONGITUDE - p2.LONGITUDE, 2)) AS DISTANCE\n",
    "FROM world.port_index p1\n",
    "JOIN world.port_index p2 ON p1.COUNTRY = p2.COUNTRY AND p1.PORT_NAME <> p2.PORT_NAME\n",
    "WHERE p1.COUNTRY = 'VN'\n",
    "AND SQRT(POWER(p1.LATITUDE - p2.LATITUDE, 2) + POWER(p1.LONGITUDE - p2.LONGITUDE, 2)) = (\n",
    "    SELECT MIN(SQRT(POWER(p1.LATITUDE - p2.LATITUDE, 2) + POWER(p1.LONGITUDE - p2.LONGITUDE, 2)))\n",
    "    FROM world.port_index p2\n",
    "    WHERE p1.COUNTRY = p2.COUNTRY AND p1.PORT_NAME <> p2.PORT_NAME\n",
    ")\n",
    "ORDER BY COUNTRY, PORT_NAME;\n"
   ]
  },
  {
   "cell_type": "code",
   "execution_count": null,
   "id": "a952439c",
   "metadata": {},
   "outputs": [],
   "source": []
  }
 ],
 "metadata": {
  "kernelspec": {
   "display_name": "Python 3 (ipykernel)",
   "language": "python",
   "name": "python3"
  },
  "language_info": {
   "codemirror_mode": {
    "name": "ipython",
    "version": 3
   },
   "file_extension": ".py",
   "mimetype": "text/x-python",
   "name": "python",
   "nbconvert_exporter": "python",
   "pygments_lexer": "ipython3",
   "version": "3.11.4"
  }
 },
 "nbformat": 4,
 "nbformat_minor": 5
}
